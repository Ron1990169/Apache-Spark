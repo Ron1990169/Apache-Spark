{
 "cells": [
  {
   "cell_type": "code",
   "execution_count": 59,
   "id": "c616cd3c",
   "metadata": {
    "scrolled": true
   },
   "outputs": [
    {
     "name": "stderr",
     "output_type": "stream",
     "text": [
      "23/04/17 21:39:11 WARN Utils: Service 'SparkUI' could not bind on port 4040. Attempting port 4041.\n",
      "23/04/17 21:39:11 WARN Utils: Service 'SparkUI' could not bind on port 4041. Attempting port 4042.\n",
      "[Stage 1:>                                                          (0 + 1) / 1]\r"
     ]
    },
    {
     "name": "stdout",
     "output_type": "stream",
     "text": [
      "Number of downloads for package ggplot2: 95292\n"
     ]
    },
    {
     "name": "stderr",
     "output_type": "stream",
     "text": [
      "                                                                                \r"
     ]
    }
   ],
   "source": [
    "# Question 1 Show number of downloads for package ggplot2\n",
    "# Stop SparkContext if it already exists\n",
    "try:\n",
    "    sc.stop()\n",
    "except NameError:\n",
    "    pass\n",
    "from pyspark import SparkContext\n",
    "from datetime import datetime\n",
    "sc = SparkContext(\"local\", \"RDD Analytics\")\n",
    "spark = SparkSession(sc)\n",
    "downloadsRDD = sc.textFile(\"file:///home/bdm/Desktop/data/2023-03-01.csv.gz\")\n",
    "\n",
    "# Remove header\n",
    "header = downloadsRDD.first()\n",
    "downloadsRDD = downloadsRDD.filter(lambda row: row != header)\n",
    "\n",
    "ggplot2_downloads = downloadsRDD.filter(lambda x: \"ggplot2\" in x).count()\n",
    "print(f\"Number of downloads for package ggplot2: {ggplot2_downloads}\")"
   ]
  },
  {
   "cell_type": "code",
   "execution_count": 60,
   "id": "f32971aa",
   "metadata": {},
   "outputs": [
    {
     "name": "stderr",
     "output_type": "stream",
     "text": [
      "23/04/17 21:39:25 WARN Utils: Service 'SparkUI' could not bind on port 4040. Attempting port 4041.\n",
      "23/04/17 21:39:25 WARN Utils: Service 'SparkUI' could not bind on port 4041. Attempting port 4042.\n",
      "[Stage 1:>                                                          (0 + 1) / 1]\r"
     ]
    },
    {
     "name": "stdout",
     "output_type": "stream",
     "text": [
      "Highest number of downloads by a country: \"US\": 3061236\n"
     ]
    },
    {
     "name": "stderr",
     "output_type": "stream",
     "text": [
      "                                                                                \r"
     ]
    }
   ],
   "source": [
    "# Question 2 List the highest number of downloads by a country.\n",
    "# Stop SparkContext if it already exists\n",
    "try:\n",
    "    sc.stop()\n",
    "except NameError:\n",
    "    pass\n",
    "from pyspark import SparkContext\n",
    "from datetime import datetime\n",
    "sc = SparkContext(\"local\", \"RDD Analytics\")\n",
    "spark = SparkSession(sc)\n",
    "downloadsRDD = sc.textFile(\"file:///home/bdm/Desktop/data/2023-03-01.csv.gz\")\n",
    "\n",
    "# Remove header\n",
    "header = downloadsRDD.first()\n",
    "downloadsRDD = downloadsRDD.filter(lambda row: row != header)\n",
    "\n",
    "downloads_per_country = downloadsRDD.map(lambda x: (x.split(\",\")[8], 1)).reduceByKey(lambda a, b: a + b).sortBy(lambda x: x[1], ascending=False).first()\n",
    "print(f\"Highest number of downloads by a country: {downloads_per_country[0]}: {downloads_per_country[1]}\")"
   ]
  },
  {
   "cell_type": "code",
   "execution_count": 61,
   "id": "d71ec957",
   "metadata": {},
   "outputs": [
    {
     "name": "stderr",
     "output_type": "stream",
     "text": [
      "23/04/17 21:39:42 WARN Utils: Service 'SparkUI' could not bind on port 4040. Attempting port 4041.\n",
      "23/04/17 21:39:42 WARN Utils: Service 'SparkUI' could not bind on port 4041. Attempting port 4042.\n",
      "[Stage 1:>                                                          (0 + 1) / 1]\r"
     ]
    },
    {
     "name": "stdout",
     "output_type": "stream",
     "text": [
      "Top 10 most popular packages:\n",
      "\"ragg\": 119818\n",
      "\"textshaping\": 115900\n",
      "\"ggplot2\": 94577\n",
      "\"cli\": 89704\n",
      "\"rlang\": 89299\n",
      "\"vctrs\": 84931\n",
      "\"lifecycle\": 77025\n",
      "\"dplyr\": 72735\n",
      "\"tidyverse\": 72076\n",
      "\"systemfonts\": 69787\n"
     ]
    },
    {
     "name": "stderr",
     "output_type": "stream",
     "text": [
      "                                                                                \r"
     ]
    }
   ],
   "source": [
    "# Question 3 What were the top 10 most popular packages ?\n",
    "# Stop SparkContext if it already exists\n",
    "try:\n",
    "    sc.stop()\n",
    "except NameError:\n",
    "    pass\n",
    "from pyspark import SparkContext\n",
    "from datetime import datetime\n",
    "sc = SparkContext(\"local\", \"RDD Analytics\")\n",
    "spark = SparkSession(sc)\n",
    "downloadsRDD = sc.textFile(\"file:///home/bdm/Desktop/data/2023-03-01.csv.gz\")\n",
    "\n",
    "# Remove header\n",
    "header = downloadsRDD.first()\n",
    "downloadsRDD = downloadsRDD.filter(lambda row: row != header)\n",
    "\n",
    "top_10_packages = downloadsRDD.map(lambda x: (x.split(\",\")[6], 1)).reduceByKey(lambda a, b: a + b).sortBy(lambda x: x[1], ascending=False).take(10)\n",
    "print(\"Top 10 most popular packages:\")\n",
    "for pkg, count in top_10_packages:\n",
    "    print(f\"{pkg}: {count}\")"
   ]
  },
  {
   "cell_type": "code",
   "execution_count": 62,
   "id": "39355073",
   "metadata": {},
   "outputs": [
    {
     "name": "stderr",
     "output_type": "stream",
     "text": [
      "23/04/17 21:40:01 WARN Utils: Service 'SparkUI' could not bind on port 4040. Attempting port 4041.\n",
      "23/04/17 21:40:01 WARN Utils: Service 'SparkUI' could not bind on port 4041. Attempting port 4042.\n",
      "[Stage 1:>                                                          (0 + 1) / 1]\r"
     ]
    },
    {
     "name": "stdout",
     "output_type": "stream",
     "text": [
      "Most popular package in Ireland: \"vctrs\"\n"
     ]
    },
    {
     "name": "stderr",
     "output_type": "stream",
     "text": [
      "                                                                                \r"
     ]
    }
   ],
   "source": [
    "# Question 4 What is the most popular package in Ireland ?\n",
    "# Stop SparkContext if it already exists\n",
    "try:\n",
    "    sc.stop()\n",
    "except NameError:\n",
    "    pass\n",
    "from pyspark import SparkContext\n",
    "from datetime import datetime\n",
    "sc = SparkContext(\"local\", \"RDD Analytics\")\n",
    "spark = SparkSession(sc)\n",
    "downloadsRDD = sc.textFile(\"file:///home/bdm/Desktop/data/2023-03-01.csv.gz\")\n",
    "\n",
    "# Remove header\n",
    "header = downloadsRDD.first()\n",
    "downloadsRDD = downloadsRDD.filter(lambda row: row != header)\n",
    "\n",
    "popular_package_ireland = downloadsRDD.filter(lambda x: \"IE\" in x).map(lambda x: (x.split(\",\")[6], 1)).reduceByKey(lambda a, b: a + b).sortBy(lambda x: x[1], ascending=False).first()\n",
    "print(f\"Most popular package in Ireland: {popular_package_ireland[0]}\")\n"
   ]
  },
  {
   "cell_type": "code",
   "execution_count": 63,
   "id": "e135e8af",
   "metadata": {},
   "outputs": [
    {
     "name": "stderr",
     "output_type": "stream",
     "text": [
      "23/04/17 21:40:14 WARN Utils: Service 'SparkUI' could not bind on port 4040. Attempting port 4041.\n",
      "23/04/17 21:40:14 WARN Utils: Service 'SparkUI' could not bind on port 4041. Attempting port 4042.\n",
      "[Stage 1:>                                                          (0 + 1) / 1]\r"
     ]
    },
    {
     "name": "stdout",
     "output_type": "stream",
     "text": [
      "Most popular OS among R programmers: \"mingw32\"\n"
     ]
    },
    {
     "name": "stderr",
     "output_type": "stream",
     "text": [
      "                                                                                \r"
     ]
    }
   ],
   "source": [
    "# Question 5 What OS is most popular among the R programmers ?\n",
    "# Stop SparkContext if it already exists\n",
    "try:\n",
    "    sc.stop()\n",
    "except NameError:\n",
    "    pass\n",
    "from pyspark import SparkContext\n",
    "from datetime import datetime\n",
    "sc = SparkContext(\"local\", \"RDD Analytics\")\n",
    "spark = SparkSession(sc)\n",
    "downloadsRDD = sc.textFile(\"file:///home/bdm/Desktop/data/2023-03-01.csv.gz\")\n",
    "\n",
    "# Remove header\n",
    "header = downloadsRDD.first()\n",
    "downloadsRDD = downloadsRDD.filter(lambda row: row != header)\n",
    "\n",
    "most_popular_os = downloadsRDD.map(lambda x: (x.split(\",\")[5], 1)).reduceByKey(lambda a, b: a + b).sortBy(lambda x: x[1], ascending=False).first()\n",
    "print(f\"Most popular OS among R programmers: {most_popular_os[0]}\")\n"
   ]
  },
  {
   "cell_type": "code",
   "execution_count": 1,
   "id": "6a627f65",
   "metadata": {},
   "outputs": [
    {
     "name": "stderr",
     "output_type": "stream",
     "text": [
      "[Stage 1:>                                                          (0 + 1) / 1]\r"
     ]
    },
    {
     "name": "stdout",
     "output_type": "stream",
     "text": [
      "Total number of downloads by each Operating System:\n",
      "Windows: 3194919\n",
      "Others: 2453136\n",
      "macOS: 1026009\n",
      "Linux: 779397\n",
      "FreeBSD: 81\n",
      "OpenBSD: 1\n"
     ]
    },
    {
     "name": "stderr",
     "output_type": "stream",
     "text": [
      "                                                                                \r"
     ]
    }
   ],
   "source": [
    "# Question 6 Total number of downloads by each Operating System (group similar ones)\n",
    "# Stop SparkContext if it already exists\n",
    "try:\n",
    "    sc.stop()\n",
    "except NameError:\n",
    "    pass\n",
    "\n",
    "from pyspark import SparkContext\n",
    "from datetime import datetime\n",
    "\n",
    "sc = SparkContext(\"local\", \"RDD Analytics\")\n",
    "spark = SparkSession(sc)\n",
    "downloadsRDD = sc.textFile(\"file:///home/bdm/Desktop/data/2023-03-01.csv.gz\")\n",
    "\n",
    "# Remove header\n",
    "header = downloadsRDD.first()\n",
    "downloadsRDD = downloadsRDD.filter(lambda row: row != header)\n",
    "\n",
    "# Function to group similar OS names\n",
    "def group_os(os_name):\n",
    "    if \"darwin\" in os_name:\n",
    "        return \"macOS\"\n",
    "    elif \"linux\" in os_name:\n",
    "        return \"Linux\"\n",
    "    elif \"mingw32\" in os_name:\n",
    "        return \"Windows\"\n",
    "    elif \"freebsd\" in os_name:\n",
    "        return \"FreeBSD\"\n",
    "    elif \"openbsd\" in os_name:\n",
    "        return \"OpenBSD\"\n",
    "    else:\n",
    "        return \"Others\"\n",
    "\n",
    "downloads_per_os = (\n",
    "    downloadsRDD\n",
    "    .map(lambda x: (group_os(x.split(\",\")[5]), 1))\n",
    "    .reduceByKey(lambda a, b: a + b)\n",
    "    .sortBy(lambda x: x[1], ascending=False)\n",
    "    .collect()\n",
    ")\n",
    "\n",
    "print(\"Total number of downloads by each Operating System:\")\n",
    "for os, count in downloads_per_os:\n",
    "    print(f\"{os}: {count}\")\n"
   ]
  },
  {
   "cell_type": "code",
   "execution_count": 2,
   "id": "7aa2f4ce",
   "metadata": {},
   "outputs": [
    {
     "name": "stderr",
     "output_type": "stream",
     "text": [
      "[Stage 1:>                                                          (0 + 1) / 1]\r"
     ]
    },
    {
     "name": "stdout",
     "output_type": "stream",
     "text": [
      "Top 10 largest sized packages:\n",
      "\"h2o\": 180052525\n",
      "\"terra\": 105907860\n",
      "\"sf\": 100662062\n",
      "\"rgdal\": 98900044\n",
      "\"Boom\": 90293750\n",
      "\"vapour\": 84438719\n",
      "\"duckdb\": 75279748\n",
      "\"torch\": 48195211\n",
      "\"mlpack\": 47644366\n",
      "\"gdalcubes\": 44577109\n"
     ]
    },
    {
     "name": "stderr",
     "output_type": "stream",
     "text": [
      "                                                                                \r"
     ]
    }
   ],
   "source": [
    "# Question 7 List the top 10 (distinct) largest sized packages.\n",
    "# Stop SparkContext if it already exists\n",
    "try:\n",
    "    sc.stop()\n",
    "except NameError:\n",
    "    pass\n",
    "\n",
    "from pyspark import SparkContext\n",
    "from datetime import datetime\n",
    "\n",
    "sc = SparkContext(\"local\", \"RDD Analytics\")\n",
    "spark = SparkSession(sc)\n",
    "downloadsRDD = sc.textFile(\"file:///home/bdm/Desktop/data/2023-03-01.csv.gz\")\n",
    "\n",
    "# Remove header\n",
    "header = downloadsRDD.first()\n",
    "downloadsRDD = downloadsRDD.filter(lambda row: row != header)\n",
    "\n",
    "def get_package_size(record):\n",
    "    fields = record.split(',')\n",
    "    package_name = fields[6]\n",
    "    size = int(fields[2])\n",
    "    return package_name, size\n",
    "\n",
    "package_sizes = downloadsRDD.map(get_package_size)\n",
    "distinct_package_sizes = package_sizes.reduceByKey(lambda a, b: max(a, b))\n",
    "sorted_package_sizes = distinct_package_sizes.sortBy(lambda x: x[1], ascending=False)\n",
    "top_10_largest_packages = sorted_package_sizes.take(10)\n",
    "\n",
    "print(\"Top 10 largest sized packages:\")\n",
    "for pkg, size in top_10_largest_packages:\n",
    "    print(f\"{pkg}: {size}\")\n"
   ]
  },
  {
   "cell_type": "code",
   "execution_count": 66,
   "id": "aa39d828",
   "metadata": {},
   "outputs": [
    {
     "name": "stderr",
     "output_type": "stream",
     "text": [
      "23/04/17 21:41:15 WARN Utils: Service 'SparkUI' could not bind on port 4040. Attempting port 4041.\n",
      "23/04/17 21:41:15 WARN Utils: Service 'SparkUI' could not bind on port 4041. Attempting port 4042.\n",
      "[Stage 1:>                                                          (0 + 1) / 1]\r"
     ]
    },
    {
     "name": "stdout",
     "output_type": "stream",
     "text": [
      "Top 3 hours with respect to the number of download hits:\n",
      "15: 414162\n",
      "14: 410287\n",
      "8: 400809\n"
     ]
    },
    {
     "name": "stderr",
     "output_type": "stream",
     "text": [
      "                                                                                \r"
     ]
    }
   ],
   "source": [
    "# Question 8 List the top 3 hours with respect to number of download hits ?\n",
    "# Stop SparkContext if it already exists\n",
    "try:\n",
    "    sc.stop()\n",
    "except NameError:\n",
    "    pass\n",
    "from pyspark import SparkContext\n",
    "from datetime import datetime\n",
    "sc = SparkContext(\"local\", \"RDD Analytics\")\n",
    "spark = SparkSession(sc)\n",
    "downloadsRDD = sc.textFile(\"file:///home/bdm/Desktop/data/2023-03-01.csv.gz\")\n",
    "\n",
    "# Remove header\n",
    "header = downloadsRDD.first()\n",
    "downloadsRDD = downloadsRDD.filter(lambda row: row != header)\n",
    "\n",
    "def parse_record(record):\n",
    "    fields = record.split(',')\n",
    "    time_str = fields[1].strip('\"')  # Remove double quotes if present\n",
    "    time = datetime.strptime(time_str, \"%H:%M:%S\")\n",
    "    return (time.hour, 1)\n",
    "\n",
    "hours_counts = downloadsRDD.map(parse_record).reduceByKey(lambda a, b: a + b)\n",
    "sorted_hours_counts = hours_counts.sortBy(lambda x: x[1], ascending=False)\n",
    "top_3_hours = sorted_hours_counts.take(3)\n",
    "\n",
    "print(\"Top 3 hours with respect to the number of download hits:\")\n",
    "for hr, count in top_3_hours:\n",
    "    print(f\"{hr}: {count}\")"
   ]
  },
  {
   "cell_type": "code",
   "execution_count": 67,
   "id": "aef490c0",
   "metadata": {},
   "outputs": [
    {
     "name": "stderr",
     "output_type": "stream",
     "text": [
      "23/04/17 21:42:10 WARN Utils: Service 'SparkUI' could not bind on port 4040. Attempting port 4041.\n",
      "23/04/17 21:42:10 WARN Utils: Service 'SparkUI' could not bind on port 4041. Attempting port 4042.\n",
      "[Stage 0:>                                                          (0 + 1) / 1]\r"
     ]
    },
    {
     "name": "stdout",
     "output_type": "stream",
     "text": [
      "Top 5 most popular packages in the US:\n",
      "\"ragg\": 49880\n",
      "\"textshaping\": 48559\n",
      "\"tidyverse\": 47745\n",
      "\"systemfonts\": 47507\n",
      "\"rlang\": 40962\n"
     ]
    },
    {
     "name": "stderr",
     "output_type": "stream",
     "text": [
      "                                                                                \r"
     ]
    }
   ],
   "source": [
    "# Question 9 What are the 5 most popular packages in US ?\n",
    "# Stop SparkContext if it already exists\n",
    "try:\n",
    "    sc.stop()\n",
    "except NameError:\n",
    "    pass\n",
    "from pyspark import SparkContext\n",
    "from datetime import datetime\n",
    "sc = SparkContext(\"local\", \"RDD Analytics\")\n",
    "spark = SparkSession(sc)\n",
    "downloadsRDD = sc.textFile(\"file:///home/bdm/Desktop/data/2023-03-01.csv.gz\")\n",
    "us_records = downloadsRDD.filter(lambda x: \"US\" in x.split(',')[8])\n",
    "us_package_count = us_records.map(lambda x: (x.split(',')[6], 1)).reduceByKey(lambda a, b: a + b)\n",
    "sorted_us_package_count = us_package_count.sortBy(lambda x: x[1], ascending=False)\n",
    "top_5_us_packages = sorted_us_package_count.take(5)\n",
    "\n",
    "print(\"Top 5 most popular packages in the US:\")\n",
    "for pkg, count in top_5_us_packages:\n",
    "    print(f\"{pkg}: {count}\")\n"
   ]
  },
  {
   "cell_type": "code",
   "execution_count": 68,
   "id": "0f5fcfe6",
   "metadata": {},
   "outputs": [
    {
     "name": "stderr",
     "output_type": "stream",
     "text": [
      "23/04/17 21:42:26 WARN Utils: Service 'SparkUI' could not bind on port 4040. Attempting port 4041.\n",
      "23/04/17 21:42:26 WARN Utils: Service 'SparkUI' could not bind on port 4041. Attempting port 4042.\n",
      "[Stage 0:>                                                          (0 + 1) / 1]\r"
     ]
    },
    {
     "name": "stdout",
     "output_type": "stream",
     "text": [
      "Number of R users still using 32-bit machines: 28723\n"
     ]
    },
    {
     "name": "stderr",
     "output_type": "stream",
     "text": [
      "23/04/17 22:28:24 WARN HeartbeatReceiver: Removing executor driver with no recent heartbeats: 2344791 ms exceeds timeout 120000 ms\n",
      "23/04/17 22:28:24 WARN SparkContext: Killing executors is not supported by current scheduler.\n"
     ]
    }
   ],
   "source": [
    "# Question 10 How many R users still use 32 bit machines ?\n",
    "# Stop SparkContext if it already exists\n",
    "try:\n",
    "    sc.stop()\n",
    "except NameError:\n",
    "    pass\n",
    "from pyspark import SparkContext\n",
    "from datetime import datetime\n",
    "sc = SparkContext(\"local\", \"RDD Analytics\")\n",
    "spark = SparkSession(sc)\n",
    "downloadsRDD = sc.textFile(\"file:///home/bdm/Desktop/data/2023-03-01.csv.gz\")\n",
    "bit_32_users = downloadsRDD.filter(lambda x: \"i386\" in x).count()\n",
    "print(f\"Number of R users still using 32-bit machines: {bit_32_users}\")\n"
   ]
  },
  {
   "cell_type": "code",
   "execution_count": null,
   "id": "aa34f075",
   "metadata": {},
   "outputs": [],
   "source": []
  },
  {
   "cell_type": "code",
   "execution_count": null,
   "id": "7790ca40",
   "metadata": {},
   "outputs": [],
   "source": []
  }
 ],
 "metadata": {
  "kernelspec": {
   "display_name": "Python 3 (ipykernel)",
   "language": "python",
   "name": "python3"
  },
  "language_info": {
   "codemirror_mode": {
    "name": "ipython",
    "version": 3
   },
   "file_extension": ".py",
   "mimetype": "text/x-python",
   "name": "python",
   "nbconvert_exporter": "python",
   "pygments_lexer": "ipython3",
   "version": "3.9.13"
  }
 },
 "nbformat": 4,
 "nbformat_minor": 5
}
